{
 "cells": [
  {
   "cell_type": "markdown",
   "id": "furnished-facial",
   "metadata": {},
   "source": [
    "# word frequency count program"
   ]
  },
  {
   "cell_type": "code",
   "execution_count": 43,
   "id": "obvious-colonial",
   "metadata": {},
   "outputs": [],
   "source": [
    "def wordFreCount(lst):\n",
    "    word_lst=lst.split(\" \")  ### split the string into words by \" \"\n",
    "    count={}                 ### initialize an empty dictonary\n",
    "    \n",
    "    for word in word_lst:    ### fillthe dictonary with key as word and five the word frequesncy as value\n",
    "        if word in count:\n",
    "            count[word]=count[word]+1    \n",
    "        else:\n",
    "            count[word]=1\n",
    "\n",
    "    freq_count=[]\n",
    "    for k in count.keys():                   \n",
    "        freq_count.append((k,count[k]))    ### create list of tuple out of dictonary\n",
    "    \n",
    "    return freq_count                      ### return the list of tuples with word frequency count"
   ]
  },
  {
   "cell_type": "code",
   "execution_count": 44,
   "id": "stone-rally",
   "metadata": {},
   "outputs": [
    {
     "data": {
      "text/plain": [
       "[('Hare', 8), ('Krishna', 4), ('Rama', 4)]"
      ]
     },
     "execution_count": 44,
     "metadata": {},
     "output_type": "execute_result"
    }
   ],
   "source": [
    "lst='Hare Krishna Hare Krishna Krishna Krishna Hare Hare Hare Rama Hare Rama Rama Rama Hare Hare'\n",
    "fre_count=wordFreCount(lst)\n",
    "fre_count"
   ]
  },
  {
   "cell_type": "markdown",
   "id": "statistical-logic",
   "metadata": {},
   "source": [
    "# adding even and odd index form two list to third one"
   ]
  },
  {
   "cell_type": "code",
   "execution_count": 53,
   "id": "common-scale",
   "metadata": {},
   "outputs": [
    {
     "data": {
      "text/plain": [
       "[10, 23, 78, 78, 67, 54, 68]"
      ]
     },
     "execution_count": 53,
     "metadata": {},
     "output_type": "execute_result"
    }
   ],
   "source": [
    "lst1=[10,45,23,56,78,36,78]\n",
    "lst2=[12,67,89,54,24,68,95]\n",
    "lst3=[]\n",
    "\n",
    "for i in range(0,len(lst1),2):\n",
    "    lst3.append(lst1[i])\n",
    "for i in range(1,len(lst2),2):\n",
    "    lst3.append(lst2[i])\n",
    "\n",
    "lst3\n",
    "    "
   ]
  },
  {
   "cell_type": "markdown",
   "id": "understood-fabric",
   "metadata": {},
   "source": [
    "# Ruby number program"
   ]
  },
  {
   "cell_type": "code",
   "execution_count": 3,
   "id": "digital-lending",
   "metadata": {},
   "outputs": [
    {
     "name": "stdout",
     "output_type": "stream",
     "text": [
      "1\n"
     ]
    }
   ],
   "source": [
    "def count_numbers(k, n, flag) :\n",
    " \n",
    "    # Base case\n",
    "    if (n == 1) :\n",
    " \n",
    "        # If 0 wasn't chosen previously\n",
    "        if (flag) :\n",
    "            return (k - 1)\n",
    "        else :\n",
    "            return 1\n",
    " \n",
    "    # If 0 wasn't chosen previously\n",
    "    if (flag) :\n",
    "        return (k - 1) * (count_numbers(k, n - 1, 0) +\n",
    "                          count_numbers(k, n - 1, 1))\n",
    "    else :\n",
    "        return count_numbers(k, n - 1, 1)\n",
    " \n",
    "# Driver code\n",
    "n = 1\n",
    "k = 3\n",
    "print(count_numbers(k, n, False))\n"
   ]
  },
  {
   "cell_type": "code",
   "execution_count": 19,
   "id": "separated-burning",
   "metadata": {},
   "outputs": [
    {
     "name": "stdout",
     "output_type": "stream",
     "text": [
      "2916\n"
     ]
    }
   ],
   "source": [
    "def count_numbers(k, n) :\n",
    " \n",
    "    # Base case\n",
    "    if (n == 1) :\n",
    "        return (k - 1)\n",
    "    else:\n",
    "        return (k - 1) * (count_numbers(k, n - 1) +\n",
    "                          count_numbers(k, n - 1))\n",
    "    \n",
    "# Driver code\n",
    "n = 3\n",
    "k = 10\n",
    "print(count_numbers(k, n))"
   ]
  },
  {
   "cell_type": "code",
   "execution_count": 17,
   "id": "tired-cisco",
   "metadata": {},
   "outputs": [
    {
     "data": {
      "text/plain": [
       "(1, 2, 3, 4)"
      ]
     },
     "execution_count": 17,
     "metadata": {},
     "output_type": "execute_result"
    }
   ],
   "source": [
    "1,2,3,4"
   ]
  },
  {
   "cell_type": "code",
   "execution_count": 18,
   "id": "historic-cincinnati",
   "metadata": {},
   "outputs": [
    {
     "ename": "NameError",
     "evalue": "name 'zz' is not defined",
     "output_type": "error",
     "traceback": [
      "\u001b[1;31m---------------------------------------------------------------------------\u001b[0m",
      "\u001b[1;31mNameError\u001b[0m                                 Traceback (most recent call last)",
      "\u001b[1;32m<ipython-input-18-15546de8c3b0>\u001b[0m in \u001b[0;36m<module>\u001b[1;34m\u001b[0m\n\u001b[1;32m----> 1\u001b[1;33m \u001b[0mzz\u001b[0m\u001b[1;33m\u001b[0m\u001b[1;33m\u001b[0m\u001b[0m\n\u001b[0m",
      "\u001b[1;31mNameError\u001b[0m: name 'zz' is not defined"
     ]
    }
   ],
   "source": [
    "zz"
   ]
  },
  {
   "cell_type": "markdown",
   "id": "smoking-colorado",
   "metadata": {},
   "source": [
    "# Python program to produce triangle of star"
   ]
  },
  {
   "cell_type": "code",
   "execution_count": 36,
   "id": "excess-supply",
   "metadata": {},
   "outputs": [
    {
     "name": "stdout",
     "output_type": "stream",
     "text": [
      "     *\n",
      "    ***\n",
      "   *****\n",
      "  *******\n",
      " *********\n",
      "***********\n"
     ]
    }
   ],
   "source": [
    "n=6\n",
    "for i in range(n):\n",
    "    print(' '*(n-i-1)+'*'*(2*i+1))"
   ]
  },
  {
   "cell_type": "code",
   "execution_count": null,
   "id": "facial-twins",
   "metadata": {},
   "outputs": [],
   "source": []
  },
  {
   "cell_type": "code",
   "execution_count": null,
   "id": "historic-shift",
   "metadata": {},
   "outputs": [],
   "source": []
  },
  {
   "cell_type": "code",
   "execution_count": null,
   "id": "authentic-catch",
   "metadata": {},
   "outputs": [],
   "source": []
  },
  {
   "cell_type": "code",
   "execution_count": null,
   "id": "renewable-running",
   "metadata": {},
   "outputs": [],
   "source": []
  },
  {
   "cell_type": "code",
   "execution_count": null,
   "id": "grave-census",
   "metadata": {},
   "outputs": [],
   "source": []
  },
  {
   "cell_type": "code",
   "execution_count": null,
   "id": "every-flavor",
   "metadata": {},
   "outputs": [],
   "source": []
  },
  {
   "cell_type": "code",
   "execution_count": null,
   "id": "secret-authorization",
   "metadata": {},
   "outputs": [],
   "source": []
  },
  {
   "cell_type": "code",
   "execution_count": null,
   "id": "fossil-berlin",
   "metadata": {},
   "outputs": [],
   "source": []
  },
  {
   "cell_type": "code",
   "execution_count": null,
   "id": "later-george",
   "metadata": {},
   "outputs": [],
   "source": []
  },
  {
   "cell_type": "code",
   "execution_count": null,
   "id": "dangerous-office",
   "metadata": {},
   "outputs": [],
   "source": []
  },
  {
   "cell_type": "code",
   "execution_count": null,
   "id": "sophisticated-plane",
   "metadata": {},
   "outputs": [],
   "source": []
  },
  {
   "cell_type": "code",
   "execution_count": null,
   "id": "corresponding-medicaid",
   "metadata": {},
   "outputs": [],
   "source": []
  },
  {
   "cell_type": "code",
   "execution_count": null,
   "id": "taken-findings",
   "metadata": {},
   "outputs": [],
   "source": []
  },
  {
   "cell_type": "code",
   "execution_count": null,
   "id": "micro-appreciation",
   "metadata": {},
   "outputs": [],
   "source": []
  },
  {
   "cell_type": "code",
   "execution_count": null,
   "id": "passing-dover",
   "metadata": {},
   "outputs": [],
   "source": []
  },
  {
   "cell_type": "code",
   "execution_count": null,
   "id": "virgin-indication",
   "metadata": {},
   "outputs": [],
   "source": []
  },
  {
   "cell_type": "code",
   "execution_count": null,
   "id": "different-spray",
   "metadata": {},
   "outputs": [],
   "source": []
  },
  {
   "cell_type": "code",
   "execution_count": null,
   "id": "clean-standing",
   "metadata": {},
   "outputs": [],
   "source": []
  },
  {
   "cell_type": "code",
   "execution_count": null,
   "id": "moderate-importance",
   "metadata": {},
   "outputs": [],
   "source": []
  },
  {
   "cell_type": "code",
   "execution_count": null,
   "id": "accredited-transaction",
   "metadata": {},
   "outputs": [],
   "source": []
  },
  {
   "cell_type": "code",
   "execution_count": null,
   "id": "identical-conflict",
   "metadata": {},
   "outputs": [],
   "source": []
  },
  {
   "cell_type": "code",
   "execution_count": null,
   "id": "appropriate-identity",
   "metadata": {},
   "outputs": [],
   "source": []
  },
  {
   "cell_type": "code",
   "execution_count": null,
   "id": "indonesian-moses",
   "metadata": {},
   "outputs": [],
   "source": []
  },
  {
   "cell_type": "code",
   "execution_count": null,
   "id": "planned-french",
   "metadata": {},
   "outputs": [],
   "source": []
  },
  {
   "cell_type": "code",
   "execution_count": null,
   "id": "atmospheric-operator",
   "metadata": {},
   "outputs": [],
   "source": []
  },
  {
   "cell_type": "code",
   "execution_count": null,
   "id": "activated-undergraduate",
   "metadata": {},
   "outputs": [],
   "source": []
  },
  {
   "cell_type": "code",
   "execution_count": null,
   "id": "alternate-proceeding",
   "metadata": {},
   "outputs": [],
   "source": []
  },
  {
   "cell_type": "code",
   "execution_count": null,
   "id": "boring-brook",
   "metadata": {},
   "outputs": [],
   "source": []
  },
  {
   "cell_type": "code",
   "execution_count": null,
   "id": "blond-carnival",
   "metadata": {},
   "outputs": [],
   "source": []
  },
  {
   "cell_type": "code",
   "execution_count": null,
   "id": "generous-houston",
   "metadata": {},
   "outputs": [],
   "source": []
  },
  {
   "cell_type": "code",
   "execution_count": null,
   "id": "buried-logic",
   "metadata": {},
   "outputs": [],
   "source": []
  },
  {
   "cell_type": "code",
   "execution_count": null,
   "id": "allied-trash",
   "metadata": {},
   "outputs": [],
   "source": []
  },
  {
   "cell_type": "code",
   "execution_count": null,
   "id": "stuck-rhythm",
   "metadata": {},
   "outputs": [],
   "source": []
  }
 ],
 "metadata": {
  "kernelspec": {
   "display_name": "Python 3",
   "language": "python",
   "name": "python3"
  },
  "language_info": {
   "codemirror_mode": {
    "name": "ipython",
    "version": 3
   },
   "file_extension": ".py",
   "mimetype": "text/x-python",
   "name": "python",
   "nbconvert_exporter": "python",
   "pygments_lexer": "ipython3",
   "version": "3.8.5"
  }
 },
 "nbformat": 4,
 "nbformat_minor": 5
}
